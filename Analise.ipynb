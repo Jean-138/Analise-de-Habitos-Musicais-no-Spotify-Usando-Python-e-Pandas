{
 "cells": [
  {
   "cell_type": "code",
   "execution_count": 1,
   "id": "2004ba52",
   "metadata": {},
   "outputs": [
    {
     "name": "stdout",
     "output_type": "stream",
     "text": [
      "<class 'pandas.core.frame.DataFrame'>\n",
      "RangeIndex: 149860 entries, 0 to 149859\n",
      "Data columns (total 11 columns):\n",
      " #   Column             Non-Null Count   Dtype \n",
      "---  ------             --------------   ----- \n",
      " 0   spotify_track_uri  149860 non-null  object\n",
      " 1   ts                 149860 non-null  object\n",
      " 2   platform           149860 non-null  object\n",
      " 3   ms_played          149860 non-null  int64 \n",
      " 4   track_name         149860 non-null  object\n",
      " 5   artist_name        149860 non-null  object\n",
      " 6   album_name         149860 non-null  object\n",
      " 7   reason_start       149717 non-null  object\n",
      " 8   reason_end         149743 non-null  object\n",
      " 9   shuffle            149860 non-null  bool  \n",
      " 10  skipped            149860 non-null  bool  \n",
      "dtypes: bool(2), int64(1), object(8)\n",
      "memory usage: 10.6+ MB\n"
     ]
    }
   ],
   "source": [
    "#Importa as bibliotecas\n",
    "import pandas as pd\n",
    "import matplotlib.pyplot as plt\n",
    "\n",
    "df = pd.read_csv(\"spotify_history.csv\") #leitura do arquivo csv\n",
    "\n",
    "df.head() #Mostra as 5 primeiras linhas do dataframe,\n",
    "df.info() #Exibe informações das colunas, tipos e quantidade de dados não nulos, "
   ]
  },
  {
   "cell_type": "code",
   "execution_count": 36,
   "id": "dcc01b3c",
   "metadata": {},
   "outputs": [],
   "source": [
    "novo_df = df.drop(columns=[\"spotify_track_uri\"]) #Remoção da coluna desnecessária\n",
    "\n",
    "novo_df[\"data_hora\"] = pd.to_datetime(novo_df[\"ts\"]) # Conversão da coluna ts para datetime\n",
    "# criou nova coluna data_hora, transformando o texto da coluna ts em um formato que o pandas entende como data e hora reais\n",
    "\n",
    "novo_df[\"data\"] = novo_df[\"data_hora\"].dt.date #crio coluna apenas com a data, sem horas."
   ]
  },
  {
   "cell_type": "code",
   "execution_count": 37,
   "id": "de84919e",
   "metadata": {},
   "outputs": [
    {
     "data": {
      "text/html": [
       "<div>\n",
       "<style scoped>\n",
       "    .dataframe tbody tr th:only-of-type {\n",
       "        vertical-align: middle;\n",
       "    }\n",
       "\n",
       "    .dataframe tbody tr th {\n",
       "        vertical-align: top;\n",
       "    }\n",
       "\n",
       "    .dataframe thead th {\n",
       "        text-align: right;\n",
       "    }\n",
       "</style>\n",
       "<table border=\"1\" class=\"dataframe\">\n",
       "  <thead>\n",
       "    <tr style=\"text-align: right;\">\n",
       "      <th></th>\n",
       "      <th>ts</th>\n",
       "      <th>platform</th>\n",
       "      <th>ms_played</th>\n",
       "      <th>track_name</th>\n",
       "      <th>artist_name</th>\n",
       "      <th>album_name</th>\n",
       "      <th>reason_start</th>\n",
       "      <th>reason_end</th>\n",
       "      <th>shuffle</th>\n",
       "      <th>skipped</th>\n",
       "      <th>data_hora</th>\n",
       "      <th>data</th>\n",
       "    </tr>\n",
       "  </thead>\n",
       "  <tbody>\n",
       "    <tr>\n",
       "      <th>0</th>\n",
       "      <td>2013-07-08 02:44:34</td>\n",
       "      <td>web player</td>\n",
       "      <td>3185</td>\n",
       "      <td>Say It, Just Say It</td>\n",
       "      <td>The Mowgli's</td>\n",
       "      <td>Waiting For The Dawn</td>\n",
       "      <td>autoplay</td>\n",
       "      <td>clickrow</td>\n",
       "      <td>False</td>\n",
       "      <td>False</td>\n",
       "      <td>2013-07-08 02:44:34</td>\n",
       "      <td>2013-07-08</td>\n",
       "    </tr>\n",
       "    <tr>\n",
       "      <th>1</th>\n",
       "      <td>2013-07-08 02:45:37</td>\n",
       "      <td>web player</td>\n",
       "      <td>61865</td>\n",
       "      <td>Drinking from the Bottle (feat. Tinie Tempah)</td>\n",
       "      <td>Calvin Harris</td>\n",
       "      <td>18 Months</td>\n",
       "      <td>clickrow</td>\n",
       "      <td>clickrow</td>\n",
       "      <td>False</td>\n",
       "      <td>False</td>\n",
       "      <td>2013-07-08 02:45:37</td>\n",
       "      <td>2013-07-08</td>\n",
       "    </tr>\n",
       "    <tr>\n",
       "      <th>2</th>\n",
       "      <td>2013-07-08 02:50:24</td>\n",
       "      <td>web player</td>\n",
       "      <td>285386</td>\n",
       "      <td>Born To Die</td>\n",
       "      <td>Lana Del Rey</td>\n",
       "      <td>Born To Die - The Paradise Edition</td>\n",
       "      <td>clickrow</td>\n",
       "      <td>unknown</td>\n",
       "      <td>False</td>\n",
       "      <td>False</td>\n",
       "      <td>2013-07-08 02:50:24</td>\n",
       "      <td>2013-07-08</td>\n",
       "    </tr>\n",
       "    <tr>\n",
       "      <th>3</th>\n",
       "      <td>2013-07-08 02:52:40</td>\n",
       "      <td>web player</td>\n",
       "      <td>134022</td>\n",
       "      <td>Off To The Races</td>\n",
       "      <td>Lana Del Rey</td>\n",
       "      <td>Born To Die - The Paradise Edition</td>\n",
       "      <td>trackdone</td>\n",
       "      <td>clickrow</td>\n",
       "      <td>False</td>\n",
       "      <td>False</td>\n",
       "      <td>2013-07-08 02:52:40</td>\n",
       "      <td>2013-07-08</td>\n",
       "    </tr>\n",
       "    <tr>\n",
       "      <th>4</th>\n",
       "      <td>2013-07-08 03:17:52</td>\n",
       "      <td>web player</td>\n",
       "      <td>0</td>\n",
       "      <td>Half Mast</td>\n",
       "      <td>Empire Of The Sun</td>\n",
       "      <td>Walking On A Dream</td>\n",
       "      <td>clickrow</td>\n",
       "      <td>nextbtn</td>\n",
       "      <td>False</td>\n",
       "      <td>False</td>\n",
       "      <td>2013-07-08 03:17:52</td>\n",
       "      <td>2013-07-08</td>\n",
       "    </tr>\n",
       "  </tbody>\n",
       "</table>\n",
       "</div>"
      ],
      "text/plain": [
       "                    ts    platform  ms_played  \\\n",
       "0  2013-07-08 02:44:34  web player       3185   \n",
       "1  2013-07-08 02:45:37  web player      61865   \n",
       "2  2013-07-08 02:50:24  web player     285386   \n",
       "3  2013-07-08 02:52:40  web player     134022   \n",
       "4  2013-07-08 03:17:52  web player          0   \n",
       "\n",
       "                                      track_name        artist_name  \\\n",
       "0                            Say It, Just Say It       The Mowgli's   \n",
       "1  Drinking from the Bottle (feat. Tinie Tempah)      Calvin Harris   \n",
       "2                                    Born To Die       Lana Del Rey   \n",
       "3                               Off To The Races       Lana Del Rey   \n",
       "4                                      Half Mast  Empire Of The Sun   \n",
       "\n",
       "                           album_name reason_start reason_end  shuffle  \\\n",
       "0                Waiting For The Dawn     autoplay   clickrow    False   \n",
       "1                           18 Months     clickrow   clickrow    False   \n",
       "2  Born To Die - The Paradise Edition     clickrow    unknown    False   \n",
       "3  Born To Die - The Paradise Edition    trackdone   clickrow    False   \n",
       "4                  Walking On A Dream     clickrow    nextbtn    False   \n",
       "\n",
       "   skipped           data_hora        data  \n",
       "0    False 2013-07-08 02:44:34  2013-07-08  \n",
       "1    False 2013-07-08 02:45:37  2013-07-08  \n",
       "2    False 2013-07-08 02:50:24  2013-07-08  \n",
       "3    False 2013-07-08 02:52:40  2013-07-08  \n",
       "4    False 2013-07-08 03:17:52  2013-07-08  "
      ]
     },
     "execution_count": 37,
     "metadata": {},
     "output_type": "execute_result"
    }
   ],
   "source": [
    "novo_df.head()"
   ]
  },
  {
   "cell_type": "code",
   "execution_count": null,
   "id": "0ab7f7ba",
   "metadata": {},
   "outputs": [
    {
     "name": "stdout",
     "output_type": "stream",
     "text": [
      "2013-07-08\n"
     ]
    }
   ],
   "source": [
    "menor_data = novo_df[\"data\"].min() #Calcula a data mais antiga que aparece no ds\n",
    "\n",
    "print(menor_data)"
   ]
  },
  {
   "cell_type": "code",
   "execution_count": null,
   "id": "c2c941a6",
   "metadata": {},
   "outputs": [
    {
     "name": "stdout",
     "output_type": "stream",
     "text": [
      "2024-12-15\n"
     ]
    }
   ],
   "source": [
    "maior_data = novo_df[\"data\"].max() #Calcula a data mais recente que aparece no ds\n",
    "print(maior_data)"
   ]
  },
  {
   "cell_type": "code",
   "execution_count": 40,
   "id": "c8553e36",
   "metadata": {},
   "outputs": [
    {
     "data": {
      "text/plain": [
       "count    1.498600e+05\n",
       "mean     1.283166e+05\n",
       "std      1.178401e+05\n",
       "min      0.000000e+00\n",
       "25%      2.795000e+03\n",
       "50%      1.388400e+05\n",
       "75%      2.185070e+05\n",
       "max      1.561125e+06\n",
       "Name: ms_played, dtype: float64"
      ]
     },
     "execution_count": 40,
     "metadata": {},
     "output_type": "execute_result"
    }
   ],
   "source": [
    "novo_df[\"ms_played\"].describe() # quanto tempo cada faixa foi tocada."
   ]
  },
  {
   "cell_type": "code",
   "execution_count": 41,
   "id": "ec0f783a",
   "metadata": {},
   "outputs": [
    {
     "data": {
      "text/plain": [
       "artist_name\n",
       "The Beatles       13621\n",
       "The Killers        6878\n",
       "John Mayer         4855\n",
       "Bob Dylan          3814\n",
       "Paul McCartney     2697\n",
       "Name: count, dtype: int64"
      ]
     },
     "execution_count": 41,
     "metadata": {},
     "output_type": "execute_result"
    }
   ],
   "source": [
    "novo_df[\"artist_name\"].value_counts().head() #quantas vezes cada artista foi ouvido."
   ]
  },
  {
   "cell_type": "code",
   "execution_count": null,
   "id": "2d26cf20",
   "metadata": {},
   "outputs": [
    {
     "data": {
      "text/plain": [
       "track_name\n",
       "Ode To The Mets                                                                        67431580\n",
       "The Return of the King (feat. Sir James Galway, Viggo Mortensen and Renee Fleming)     64401661\n",
       "The Fellowship Reunited (feat. Sir James Galway, Viggo Mortensen and Renée Fleming)    44756730\n",
       "19 Dias y 500 Noches - En Directo                                                      42914042\n",
       "In the Blood                                                                           38427087\n",
       "Name: ms_played, dtype: int64"
      ]
     },
     "execution_count": 42,
     "metadata": {},
     "output_type": "execute_result"
    }
   ],
   "source": [
    "mais_tocadas = novo_df.groupby([\"track_name\"])[\"ms_played\"].sum() #Agrupa nome da música e soma o tempo total tocado, mostra as músicas mais executadas.\n",
    "\n",
    "mais_tocadas.sort_values(ascending=False).head(5) #Exibe as 5 músicas com maior tempo total de execução.\n",
    "\n"
   ]
  },
  {
   "cell_type": "code",
   "execution_count": null,
   "id": "eff0b634",
   "metadata": {},
   "outputs": [
    {
     "data": {
      "text/plain": [
       "track_name\n",
       "Ámame                       1.0\n",
       "Your Flesh Is So Nice       1.0\n",
       "Younger                     1.0\n",
       "Young Again - Radio Edit    1.0\n",
       "Young & Set                 1.0\n",
       "dtype: float64"
      ]
     },
     "execution_count": 43,
     "metadata": {},
     "output_type": "execute_result"
    }
   ],
   "source": [
    "puladas = novo_df[novo_df[\"skipped\"] == True] #cria uma tabela só com linhas onde a música foi pulada pelo usuário.\n",
    "\n",
    "puladas_count = puladas.groupby(\"track_name\").size()  #quantas vezes a musica foi pulada\n",
    "\n",
    "total_execusoes = novo_df.groupby(\"track_name\").size() # total de execuções por música\n",
    "\n",
    "\n",
    "taxa_de_pulos = puladas_count / total_execusoes # Calcula o percentual (ou taxa) de vezes que cada música foi pulada \n",
    "\n",
    "taxa_de_pulos.sort_values(ascending=False).head(5) #top 5 músicas com maior taxa de pulo.\n",
    "\n",
    "\n"
   ]
  },
  {
   "cell_type": "code",
   "execution_count": null,
   "id": "d8741ee6",
   "metadata": {},
   "outputs": [
    {
     "data": {
      "text/plain": [
       "array(['web player', 'windows', 'android', 'iOS', 'cast to device', 'mac'],\n",
       "      dtype=object)"
      ]
     },
     "execution_count": 44,
     "metadata": {},
     "output_type": "execute_result"
    }
   ],
   "source": [
    "# Lista todas as plataformas diferentes presentes, usei só para ver a diferença de letras maiúsculas e minúsculas.\n",
    "\n",
    "novo_df[\"platform\"].unique() "
   ]
  },
  {
   "cell_type": "code",
   "execution_count": 45,
   "id": "a6012cf5",
   "metadata": {},
   "outputs": [],
   "source": [
    "# pega cada valor de texto e converte para minúsculo.\n",
    "\n",
    "novo_df[\"platform\"] = novo_df[\"platform\"].str.lower()"
   ]
  },
  {
   "cell_type": "code",
   "execution_count": 46,
   "id": "6fb2e1ed",
   "metadata": {},
   "outputs": [
    {
     "data": {
      "text/plain": [
       "array(['web player', 'windows', 'android', 'ios', 'cast to device', 'mac'],\n",
       "      dtype=object)"
      ]
     },
     "execution_count": 46,
     "metadata": {},
     "output_type": "execute_result"
    }
   ],
   "source": [
    "# confere de novo com unique() para ver se deu certo a conversão\n",
    "\n",
    "novo_df[\"platform\"].unique()"
   ]
  },
  {
   "cell_type": "code",
   "execution_count": null,
   "id": "2e40ba4a",
   "metadata": {},
   "outputs": [
    {
     "data": {
      "text/plain": [
       "platform\n",
       "android           139821\n",
       "cast to device      3898\n",
       "ios                 3049\n",
       "windows             1691\n",
       "mac                 1176\n",
       "web player           225\n",
       "Name: count, dtype: int64"
      ]
     },
     "execution_count": 47,
     "metadata": {},
     "output_type": "execute_result"
    }
   ],
   "source": [
    "# Qual plataforma é a mais usada para ouvir música, conta quantas vezes cada plataforma foi usada\n",
    "\n",
    "\n",
    "novo_df[\"platform\"].value_counts()\n"
   ]
  },
  {
   "cell_type": "code",
   "execution_count": null,
   "id": "2add0209",
   "metadata": {},
   "outputs": [],
   "source": [
    "# cria uma nova coluna chamada dia_semana que indica qual dia da semana cada música foi tocada.\n",
    "# .dt.dayofweek extrai o dia da semana como número(0=segunda-feira,1=terca-feira,..., 6=domingo)\n",
    "\n",
    "novo_df[\"dia_semana\"] = novo_df[\"data_hora\"].dt.dayofweek"
   ]
  },
  {
   "cell_type": "code",
   "execution_count": null,
   "id": "bc117e25",
   "metadata": {},
   "outputs": [
    {
     "data": {
      "text/plain": [
       "dia_semana\n",
       "6    18274\n",
       "5    19397\n",
       "1    20705\n",
       "0    21031\n",
       "3    21401\n",
       "2    23406\n",
       "4    25646\n",
       "dtype: int64"
      ]
     },
     "execution_count": 49,
     "metadata": {},
     "output_type": "execute_result"
    }
   ],
   "source": [
    "# Agrupa e conta quantas execuções em cada dia da semana, ordenadas do menor para o maior\n",
    "\n",
    "novo_df.groupby(\"dia_semana\").size().sort_values(ascending=True)"
   ]
  },
  {
   "cell_type": "code",
   "execution_count": null,
   "id": "25b3b001",
   "metadata": {},
   "outputs": [
    {
     "data": {
      "image/png": "[encoded data removed]",
      "text/plain": [
       "<Figure size 800x500 with 1 Axes>"
      ]
     },
     "metadata": {},
     "output_type": "display_data"
    }
   ],
   "source": [
    "contagem_por_dia = novo_df.groupby(\"dia_semana\").size() #agrupa por dias da semana\n",
    "\n",
    "# grafico\n",
    "plt.figure(figsize=(8,5)) #Define o tamanho da figura a ser plotada no gráfico, largura 8, altura 5\n",
    "plt.bar(contagem_por_dia.index, contagem_por_dia.values,color=\"skyblue\") # bara vertical\n",
    "\n",
    "plt.title(\"Execuções por Dia da Semana\")  # título do gráfico\n",
    "plt.xlabel(\"Dia da Semana\")  # rótulo do eixo X\n",
    "plt.ylabel(\"Número de Execuções\")  # rótulo do eixo Y\n",
    "\n",
    "dias = [\"Seg\", \"Ter\", \"Qua\", \"Qui\", \"Sex\", \"Sáb\", \"Dom\"] #lista com nomes dos dias da semana em portugues\n",
    "\n",
    "plt.xticks(contagem_por_dia.index, dias) # Substitui os números do eixo X pelos nomes dos dias.\n",
    "\n",
    "\n",
    "plt.savefig(\"execucoes_por_dia.png\", dpi=300) # salva o grafico como png\n",
    "\n",
    "plt.show() # mostrar o grafico "
   ]
  },
  {
   "cell_type": "code",
   "execution_count": null,
   "id": "61ff0621",
   "metadata": {},
   "outputs": [
    {
     "name": "stdout",
     "output_type": "stream",
     "text": [
      "74.4581609502202\n",
      "25.541839049779796\n"
     ]
    }
   ],
   "source": [
    "\n",
    "contagem = novo_df[\"shuffle\"].value_counts() #Conta quantas execuções foram com shuffle ativado ou não\n",
    "\n",
    "contagem.sum() #total de execucoes em geral\n",
    "\n",
    "porcentagem_true = contagem[True] / contagem.sum() * 100 #Calcula a porcentagem com shuffle ativado.\n",
    "porcentagem_false = contagem[False] / contagem.sum() * 100 #Calcula a porcentagem com shuffle desativado.\n",
    "\n",
    "print(porcentagem_true) #exibe a  porcentagem com o modo aleatorio(shuffle)\n",
    "\n",
    "print(porcentagem_false) #exibe a porcentagem sem o modo aleatorio(shuffle)\n"
   ]
  },
  {
   "cell_type": "code",
   "execution_count": null,
   "id": "5614ce75",
   "metadata": {},
   "outputs": [
    {
     "data": {
      "text/plain": [
       "track_name\n",
       "Ode To The Mets        180\n",
       "In the Blood           150\n",
       "Dying Breed            137\n",
       "Caution                136\n",
       "For What It's Worth    130\n",
       "dtype: int64"
      ]
     },
     "execution_count": 55,
     "metadata": {},
     "output_type": "execute_result"
    }
   ],
   "source": [
    "novo_df[\"reason_end\"].value_counts() #quantas vezes cada \"motivo de término\" aparece no Df.\n",
    "\n",
    "cond1 = novo_df[\"reason_end\"] == \"endplay\"  #Cria uma condição booleana para músicas finalizadas naturalmente.\n",
    "\n",
    "\n",
    "cond2 = novo_df[\"reason_end\"] == \"trackdone\"  #Cria uma condição booleana para músicas finalizadas por clique após execução total\n",
    "\n",
    "cond1 | cond2 #combina os dois, Faz um OU lógico, qualquer linha que seja True em uma das condições vai ser True.\n",
    "\n",
    "cond = cond1 | cond2\n",
    "\n",
    "df_terminadas = novo_df[cond] # Seleciona todas as músicas que realmente chegaram ao fim.\n",
    "\n",
    "\n",
    "\n",
    "terminadas_count = df_terminadas.groupby(\"track_name\").size()#agrupa pelo nome da música e contar quantas vezes ela aparece\n",
    "\n",
    "\n",
    "terminadas_count.sort_values(ascending=False).head(5) #Mostra as 5 músicas mais finalizadas.\n",
    "\n",
    "\n"
   ]
  }
 ],
 "metadata": {
  "kernelspec": {
   "display_name": "Python 3",
   "language": "python",
   "name": "python3"
  },
  "language_info": {
   "codemirror_mode": {
    "name": "ipython",
    "version": 3
   },
   "file_extension": ".py",
   "mimetype": "text/x-python",
   "name": "python",
   "nbconvert_exporter": "python",
   "pygments_lexer": "ipython3",
   "version": "3.13.2"
  }
 },
 "nbformat": 4,
 "nbformat_minor": 5
}
